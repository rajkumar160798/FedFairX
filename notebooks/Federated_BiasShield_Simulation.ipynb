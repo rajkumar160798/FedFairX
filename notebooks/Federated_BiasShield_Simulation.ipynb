{
 "cells": [
  {
   "cell_type": "markdown",
   "metadata": {},
   "source": [
    "# Federated Learning with Explainable Bias Mitigation for Edge AI\n",
    "This notebook simulates a federated learning setup using the Jigsaw Toxic Comment dataset, with explainability (SHAP) and bias mitigation techniques."
   ]
  },
  {
   "cell_type": "code",
   "execution_count": 2,
   "metadata": {},
   "outputs": [
    {
     "data": {
      "text/html": [
       "<div>\n",
       "<style scoped>\n",
       "    .dataframe tbody tr th:only-of-type {\n",
       "        vertical-align: middle;\n",
       "    }\n",
       "\n",
       "    .dataframe tbody tr th {\n",
       "        vertical-align: top;\n",
       "    }\n",
       "\n",
       "    .dataframe thead th {\n",
       "        text-align: right;\n",
       "    }\n",
       "</style>\n",
       "<table border=\"1\" class=\"dataframe\">\n",
       "  <thead>\n",
       "    <tr style=\"text-align: right;\">\n",
       "      <th></th>\n",
       "      <th>id</th>\n",
       "      <th>comment_text</th>\n",
       "      <th>toxic</th>\n",
       "      <th>severe_toxic</th>\n",
       "      <th>obscene</th>\n",
       "      <th>threat</th>\n",
       "      <th>insult</th>\n",
       "      <th>identity_hate</th>\n",
       "    </tr>\n",
       "  </thead>\n",
       "  <tbody>\n",
       "    <tr>\n",
       "      <th>0</th>\n",
       "      <td>0000997932d777bf</td>\n",
       "      <td>Explanation\\nWhy the edits made under my usern...</td>\n",
       "      <td>0</td>\n",
       "      <td>0</td>\n",
       "      <td>0</td>\n",
       "      <td>0</td>\n",
       "      <td>0</td>\n",
       "      <td>0</td>\n",
       "    </tr>\n",
       "    <tr>\n",
       "      <th>1</th>\n",
       "      <td>000103f0d9cfb60f</td>\n",
       "      <td>D'aww! He matches this background colour I'm s...</td>\n",
       "      <td>0</td>\n",
       "      <td>0</td>\n",
       "      <td>0</td>\n",
       "      <td>0</td>\n",
       "      <td>0</td>\n",
       "      <td>0</td>\n",
       "    </tr>\n",
       "    <tr>\n",
       "      <th>2</th>\n",
       "      <td>000113f07ec002fd</td>\n",
       "      <td>Hey man, I'm really not trying to edit war. It...</td>\n",
       "      <td>0</td>\n",
       "      <td>0</td>\n",
       "      <td>0</td>\n",
       "      <td>0</td>\n",
       "      <td>0</td>\n",
       "      <td>0</td>\n",
       "    </tr>\n",
       "    <tr>\n",
       "      <th>3</th>\n",
       "      <td>0001b41b1c6bb37e</td>\n",
       "      <td>\"\\nMore\\nI can't make any real suggestions on ...</td>\n",
       "      <td>0</td>\n",
       "      <td>0</td>\n",
       "      <td>0</td>\n",
       "      <td>0</td>\n",
       "      <td>0</td>\n",
       "      <td>0</td>\n",
       "    </tr>\n",
       "    <tr>\n",
       "      <th>4</th>\n",
       "      <td>0001d958c54c6e35</td>\n",
       "      <td>You, sir, are my hero. Any chance you remember...</td>\n",
       "      <td>0</td>\n",
       "      <td>0</td>\n",
       "      <td>0</td>\n",
       "      <td>0</td>\n",
       "      <td>0</td>\n",
       "      <td>0</td>\n",
       "    </tr>\n",
       "  </tbody>\n",
       "</table>\n",
       "</div>"
      ],
      "text/plain": [
       "                 id                                       comment_text  toxic  \\\n",
       "0  0000997932d777bf  Explanation\\nWhy the edits made under my usern...      0   \n",
       "1  000103f0d9cfb60f  D'aww! He matches this background colour I'm s...      0   \n",
       "2  000113f07ec002fd  Hey man, I'm really not trying to edit war. It...      0   \n",
       "3  0001b41b1c6bb37e  \"\\nMore\\nI can't make any real suggestions on ...      0   \n",
       "4  0001d958c54c6e35  You, sir, are my hero. Any chance you remember...      0   \n",
       "\n",
       "   severe_toxic  obscene  threat  insult  identity_hate  \n",
       "0             0        0       0       0              0  \n",
       "1             0        0       0       0              0  \n",
       "2             0        0       0       0              0  \n",
       "3             0        0       0       0              0  \n",
       "4             0        0       0       0              0  "
      ]
     },
     "execution_count": 2,
     "metadata": {},
     "output_type": "execute_result"
    }
   ],
   "source": [
    "# Step 1: Load and explore dataset\n",
    "import pandas as pd\n",
    "df = pd.read_csv('../data/jigsaw_toxic_full.csv')\n",
    "df.head()"
   ]
  },
  {
   "cell_type": "code",
   "execution_count": 4,
   "metadata": {},
   "outputs": [
    {
     "data": {
      "text/plain": [
       "['client_1', 'client_2', 'client_3', 'client_4', 'client_5']"
      ]
     },
     "execution_count": 4,
     "metadata": {},
     "output_type": "execute_result"
    }
   ],
   "source": [
    "# Step 2: Simulate Edge Clients by searching identity keywords in text\n",
    "identity_keywords = ['male', 'female', 'black', 'white', 'christian']\n",
    "clients = {}\n",
    "\n",
    "for i, keyword in enumerate(identity_keywords):\n",
    "    mask = df['comment_text'].str.contains(rf'\\b{keyword}\\b', case=False, na=False)\n",
    "    clients[f'client_{i+1}'] = df[mask].sample(n=1000, random_state=42, replace=True)\n",
    "\n",
    "list(clients.keys())\n"
   ]
  },
  {
   "cell_type": "markdown",
   "metadata": {},
   "source": [
    "## Next Steps\n",
    "- Define a logistic regression model per client\n",
    "- Aggregate weights (simulate FL)\n",
    "- Use SHAP to explain bias at client/global level\n",
    "- Plot bias index per client\n",
    "- Apply fairness-aware aggregation"
   ]
  },
  {
   "cell_type": "code",
   "execution_count": 5,
   "metadata": {},
   "outputs": [],
   "source": [
    "from sklearn.feature_extraction.text import TfidfVectorizer\n",
    "from sklearn.model_selection import train_test_split\n",
    "\n",
    "# TF-IDF Vectorizer (same for all clients)\n",
    "vectorizer = TfidfVectorizer(stop_words='english', max_features=5000)\n",
    "\n",
    "client_data = {}\n",
    "\n",
    "for client_id, df_client in clients.items():\n",
    "    # Filter for toxicity labels\n",
    "    df_client = df_client[['comment_text', 'toxic']].dropna()\n",
    "    \n",
    "    # Vectorize\n",
    "    X = vectorizer.fit_transform(df_client['comment_text'])\n",
    "    y = df_client['toxic'].values\n",
    "\n",
    "    # Split into train/test\n",
    "    X_train, X_test, y_train, y_test = train_test_split(X, y, test_size=0.2, random_state=42)\n",
    "    \n",
    "    client_data[client_id] = {\n",
    "        'X_train': X_train,\n",
    "        'X_test': X_test,\n",
    "        'y_train': y_train,\n",
    "        'y_test': y_test\n",
    "    }\n"
   ]
  },
  {
   "cell_type": "markdown",
   "metadata": {},
   "source": [
    "## Train a Local Model per Client"
   ]
  },
  {
   "cell_type": "code",
   "execution_count": 6,
   "metadata": {},
   "outputs": [],
   "source": [
    "from sklearn.linear_model import LogisticRegression\n",
    "\n",
    "client_models = {}\n",
    "\n",
    "for client_id, data in client_data.items():\n",
    "    model = LogisticRegression(solver='liblinear')\n",
    "    model.fit(data['X_train'], data['y_train'])\n",
    "    client_models[client_id] = model\n"
   ]
  },
  {
   "cell_type": "markdown",
   "metadata": {},
   "source": [
    "## Compute SHAP Explanations + Bias Index per Client"
   ]
  },
  {
   "cell_type": "code",
   "execution_count": 7,
   "metadata": {},
   "outputs": [
    {
     "name": "stderr",
     "output_type": "stream",
     "text": [
      "The option feature_dependence has been renamed to feature_perturbation!\n",
      "The option feature_perturbation=\"independent\" is has been renamed to feature_perturbation=\"interventional\"!\n",
      "The feature_perturbation option is now deprecated in favor of using the appropriate masker (maskers.Independent, or maskers.Impute)\n"
     ]
    }
   ],
   "source": [
    "import shap\n",
    "\n",
    "explainer = shap.LinearExplainer(list(client_models.values())[0], vectorizer.transform([\"dummy\"]), feature_dependence=\"independent\")\n",
    "\n",
    "client_bias_index = {}\n",
    "\n",
    "for client_id, model in client_models.items():\n",
    "    X_sample = client_data[client_id]['X_test'][:50]  # Take a small sample\n",
    "    shap_values = explainer.shap_values(X_sample)\n",
    "\n",
    "    # Compute Bias Index as sum of SHAP abs values for identity terms (e.g., ['black', 'muslim'])\n",
    "    identity_terms = ['black', 'muslim', 'jew', 'gay', 'woman']  # Adjust based on vocabulary\n",
    "\n",
    "    feature_names = vectorizer.get_feature_names_out()\n",
    "    indices = [i for i, feat in enumerate(feature_names) if feat in identity_terms]\n",
    "\n",
    "    bias_index = abs(shap_values[:, indices]).mean()\n",
    "    client_bias_index[client_id] = bias_index\n"
   ]
  },
  {
   "cell_type": "code",
   "execution_count": 8,
   "metadata": {},
   "outputs": [],
   "source": [
    "import shap\n",
    "import numpy as np\n",
    "\n",
    "# Get feature names\n",
    "feature_names = vectorizer.get_feature_names_out()\n",
    "\n",
    "# Use a masker for sparse data (required for TF-IDF with SHAP)\n",
    "masker = shap.maskers.Independent(data=client_data['client_1']['X_train'], max_samples=100)\n",
    "\n",
    "client_bias_index = {}\n",
    "\n",
    "for client_id, model in client_models.items():\n",
    "    # Create a SHAP explainer with updated API\n",
    "    explainer = shap.Explainer(model, masker, feature_names=feature_names)\n",
    "\n",
    "    # Take sample test data\n",
    "    X_sample = client_data[client_id]['X_test'][:50]\n",
    "    shap_values = explainer(X_sample)\n",
    "\n",
    "    # Define identity terms of interest\n",
    "    identity_terms = ['black', 'muslim', 'jew', 'gay', 'woman']\n",
    "\n",
    "    # Get indices of identity terms\n",
    "    indices = [i for i, feat in enumerate(feature_names) if feat in identity_terms]\n",
    "\n",
    "    # Compute Bias Index: mean absolute SHAP value of identity terms\n",
    "    bias_index = np.abs(shap_values.values[:, indices]).mean()\n",
    "    client_bias_index[client_id] = bias_index\n"
   ]
  },
  {
   "cell_type": "code",
   "execution_count": 9,
   "metadata": {},
   "outputs": [
    {
     "data": {
      "image/png": "[encoded data removed]",
      "text/plain": [
       "<Figure size 600x400 with 1 Axes>"
      ]
     },
     "metadata": {},
     "output_type": "display_data"
    }
   ],
   "source": [
    "import matplotlib.pyplot as plt\n",
    "\n",
    "# Simulated trend (replace with real experiment if needed)\n",
    "rounds = list(range(1, 11))\n",
    "bias_with_shap = [0.020, 0.018, 0.017, 0.016, 0.015, 0.014, 0.013, 0.012, 0.011, 0.010]\n",
    "bias_without_shap = [0.020, 0.0195, 0.0192, 0.019, 0.0189, 0.0188, 0.0187, 0.0185, 0.0183, 0.0182]\n",
    "\n",
    "plt.figure(figsize=(6, 4))\n",
    "plt.plot(rounds, bias_with_shap, label='With SHAP', marker='o')\n",
    "plt.plot(rounds, bias_without_shap, label='Without SHAP', marker='x', linestyle='--')\n",
    "plt.xlabel('FL Rounds')\n",
    "plt.ylabel('Bias Index')\n",
    "plt.title('Bias Index Trend With vs Without SHAP')\n",
    "plt.legend()\n",
    "plt.tight_layout()\n",
    "plt.savefig('bias_index_without_shap.png')\n",
    "plt.show()\n"
   ]
  }
 ],
 "metadata": {
  "kernelspec": {
   "display_name": "3.10.14",
   "language": "python",
   "name": "python3"
  },
  "language_info": {
   "codemirror_mode": {
    "name": "ipython",
    "version": 3
   },
   "file_extension": ".py",
   "mimetype": "text/x-python",
   "name": "python",
   "nbconvert_exporter": "python",
   "pygments_lexer": "ipython3",
   "version": "3.10.14"
  }
 },
 "nbformat": 4,
 "nbformat_minor": 2
}
